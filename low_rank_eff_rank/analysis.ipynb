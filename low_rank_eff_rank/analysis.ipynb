{
 "cells": [
  {
   "cell_type": "code",
   "execution_count": 3,
   "metadata": {
    "collapsed": true
   },
   "outputs": [],
   "source": [
    "from glob import glob\n",
    "\n",
    "import pandas as pd\n",
    "import matplotlib.pyplot as plt"
   ]
  },
  {
   "cell_type": "code",
   "execution_count": 4,
   "outputs": [
    {
     "data": {
      "text/plain": "   epoch  rank0  rank1  rank2  rank3      acc      loss  val_acc  val_loss  \\\n0      0     20     20    120     10  0.21290  2.079762   0.2558  1.986130   \n1      1     20     20    120     10  0.21332  2.073790   0.2403  1.968319   \n2      2     20     20    120     10  0.26286  1.963326   0.2393  2.002390   \n3      3     20     20    120     10  0.29394  1.906024   0.3312  1.834879   \n4      4     20     20    120     10  0.29038  1.913146   0.3247  1.847087   \n\n   low_rank_0_eff_rank  low_rank_1_eff_rank  low_rank_2_eff_rank  \\\n0             3.482179             3.311414             4.453778   \n1             2.452301             2.732476             2.517608   \n2             2.966595             3.140668             2.070014   \n3             2.438617             2.695274             1.687570   \n4             2.391496             2.641636             1.147921   \n\n   low_rank_3_eff_rank  \n0             2.058752  \n1             2.092899  \n2             2.067904  \n3             2.042355  \n4             2.017954  ",
      "text/html": "<div>\n<style scoped>\n    .dataframe tbody tr th:only-of-type {\n        vertical-align: middle;\n    }\n\n    .dataframe tbody tr th {\n        vertical-align: top;\n    }\n\n    .dataframe thead th {\n        text-align: right;\n    }\n</style>\n<table border=\"1\" class=\"dataframe\">\n  <thead>\n    <tr style=\"text-align: right;\">\n      <th></th>\n      <th>epoch</th>\n      <th>rank0</th>\n      <th>rank1</th>\n      <th>rank2</th>\n      <th>rank3</th>\n      <th>acc</th>\n      <th>loss</th>\n      <th>val_acc</th>\n      <th>val_loss</th>\n      <th>low_rank_0_eff_rank</th>\n      <th>low_rank_1_eff_rank</th>\n      <th>low_rank_2_eff_rank</th>\n      <th>low_rank_3_eff_rank</th>\n    </tr>\n  </thead>\n  <tbody>\n    <tr>\n      <th>0</th>\n      <td>0</td>\n      <td>20</td>\n      <td>20</td>\n      <td>120</td>\n      <td>10</td>\n      <td>0.21290</td>\n      <td>2.079762</td>\n      <td>0.2558</td>\n      <td>1.986130</td>\n      <td>3.482179</td>\n      <td>3.311414</td>\n      <td>4.453778</td>\n      <td>2.058752</td>\n    </tr>\n    <tr>\n      <th>1</th>\n      <td>1</td>\n      <td>20</td>\n      <td>20</td>\n      <td>120</td>\n      <td>10</td>\n      <td>0.21332</td>\n      <td>2.073790</td>\n      <td>0.2403</td>\n      <td>1.968319</td>\n      <td>2.452301</td>\n      <td>2.732476</td>\n      <td>2.517608</td>\n      <td>2.092899</td>\n    </tr>\n    <tr>\n      <th>2</th>\n      <td>2</td>\n      <td>20</td>\n      <td>20</td>\n      <td>120</td>\n      <td>10</td>\n      <td>0.26286</td>\n      <td>1.963326</td>\n      <td>0.2393</td>\n      <td>2.002390</td>\n      <td>2.966595</td>\n      <td>3.140668</td>\n      <td>2.070014</td>\n      <td>2.067904</td>\n    </tr>\n    <tr>\n      <th>3</th>\n      <td>3</td>\n      <td>20</td>\n      <td>20</td>\n      <td>120</td>\n      <td>10</td>\n      <td>0.29394</td>\n      <td>1.906024</td>\n      <td>0.3312</td>\n      <td>1.834879</td>\n      <td>2.438617</td>\n      <td>2.695274</td>\n      <td>1.687570</td>\n      <td>2.042355</td>\n    </tr>\n    <tr>\n      <th>4</th>\n      <td>4</td>\n      <td>20</td>\n      <td>20</td>\n      <td>120</td>\n      <td>10</td>\n      <td>0.29038</td>\n      <td>1.913146</td>\n      <td>0.3247</td>\n      <td>1.847087</td>\n      <td>2.391496</td>\n      <td>2.641636</td>\n      <td>1.147921</td>\n      <td>2.017954</td>\n    </tr>\n  </tbody>\n</table>\n</div>"
     },
     "execution_count": 4,
     "metadata": {},
     "output_type": "execute_result"
    }
   ],
   "source": [
    "data = pd.concat([pd.read_csv(file) for file in sorted(glob(\"./results/cifar10*.csv\"))])\n",
    "data.head()"
   ],
   "metadata": {
    "collapsed": false,
    "pycharm": {
     "name": "#%%\n"
    }
   }
  },
  {
   "cell_type": "code",
   "execution_count": 5,
   "outputs": [
    {
     "name": "stdout",
     "output_type": "stream",
     "text": [
      "[20 60 80]\n",
      "[20 30 40 60 80]\n",
      "[120 140 200  20  30  40  60  80]\n",
      "[10  5]\n"
     ]
    }
   ],
   "source": [
    "\n",
    "print(data[\"rank0\"].unique())\n",
    "print(data[\"rank1\"].unique())\n",
    "print(data[\"rank2\"].unique())\n",
    "print(data[\"rank3\"].unique())"
   ],
   "metadata": {
    "collapsed": false,
    "pycharm": {
     "name": "#%%\n"
    }
   }
  },
  {
   "cell_type": "code",
   "execution_count": 14,
   "outputs": [],
   "source": [
    "def plot_eff_rank(df, rank_num):\n",
    "    data = df[[f\"rank{rank_num}\", \"epoch\", f\"low_rank_{rank_num}_eff_rank\", \"val_acc\"]]\n",
    "    data = data.groupby(f\"rank{rank_num}\")\n",
    "\n",
    "    def calc_eff_rank_change(x):\n",
    "        start = x.loc[x[\"epoch\"] == 0, f\"low_rank_{rank_num}_eff_rank\"].iloc[0]\n",
    "        end = x.loc[x[\"epoch\"] == 1, f\"low_rank_{rank_num}_eff_rank\"].iloc[0]\n",
    "        return end - start\n",
    "\n",
    "    eff_ranks = data.apply(calc_eff_rank_change)\n",
    "\n",
    "    def calc_acc(x):\n",
    "        return x[\"val_acc\"].max()\n",
    "\n",
    "    acc = data.apply(calc_acc)\n",
    "\n",
    "    fig, ax = plt.subplots()\n",
    "    ax.plot(eff_ranks.index, eff_ranks, color=\"blue\")\n",
    "    ax.set_ylabel(\"eff rank\")\n",
    "    ax2 = ax.twinx()\n",
    "    ax2.plot(acc.index, acc, color=\"red\")\n",
    "    ax2.set_ylabel(\"val acc\")"
   ],
   "metadata": {
    "collapsed": false,
    "pycharm": {
     "name": "#%%\n"
    }
   }
  },
  {
   "cell_type": "code",
   "execution_count": 27,
   "outputs": [
    {
     "data": {
      "text/plain": "<Figure size 432x288 with 2 Axes>",
      "image/png": "[encoded data removed]"
     },
     "metadata": {
      "needs_background": "light"
     },
     "output_type": "display_data"
    }
   ],
   "source": [
    "plot_eff_rank(\n",
    "    data[\n",
    "        (data[\"rank0\"] == 80) &\n",
    "        (data[\"rank1\"] == 60) &\n",
    "        (data[\"rank3\"] == 10)\n",
    "        ],\n",
    "    2\n",
    ")\n",
    "plt.show()"
   ],
   "metadata": {
    "collapsed": false,
    "pycharm": {
     "name": "#%%\n"
    }
   }
  },
  {
   "cell_type": "code",
   "execution_count": null,
   "outputs": [],
   "source": [],
   "metadata": {
    "collapsed": false,
    "pycharm": {
     "name": "#%%\n"
    }
   }
  }
 ],
 "metadata": {
  "kernelspec": {
   "display_name": "Python 3",
   "language": "python",
   "name": "python3"
  },
  "language_info": {
   "codemirror_mode": {
    "name": "ipython",
    "version": 2
   },
   "file_extension": ".py",
   "mimetype": "text/x-python",
   "name": "python",
   "nbconvert_exporter": "python",
   "pygments_lexer": "ipython2",
   "version": "2.7.6"
  }
 },
 "nbformat": 4,
 "nbformat_minor": 0
}