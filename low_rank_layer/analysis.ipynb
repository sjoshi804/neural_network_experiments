{
 "cells": [
  {
   "cell_type": "code",
   "execution_count": 4,
   "metadata": {
    "collapsed": true
   },
   "outputs": [],
   "source": [
    "import numpy as np\n",
    "import pandas as pd"
   ]
  },
  {
   "cell_type": "code",
   "execution_count": 5,
   "outputs": [
    {
     "data": {
      "text/plain": "   epoch      loss  num_parameters  dim  rank  accuracy  val_loss  \\\n0      1  1.983530            4200   10     5       NaN       NaN   \n1      1       NaN            4200   10     5  0.198767       NaN   \n2      1       NaN            4200   10     5       NaN  1.756253   \n3      1       NaN            4200   10     5       NaN       NaN   \n4      2  1.688697            4200   10     5       NaN       NaN   \n\n   val_accuracy  \n0           NaN  \n1           NaN  \n2           NaN  \n3        0.2271  \n4           NaN  ",
      "text/html": "<div>\n<style scoped>\n    .dataframe tbody tr th:only-of-type {\n        vertical-align: middle;\n    }\n\n    .dataframe tbody tr th {\n        vertical-align: top;\n    }\n\n    .dataframe thead th {\n        text-align: right;\n    }\n</style>\n<table border=\"1\" class=\"dataframe\">\n  <thead>\n    <tr style=\"text-align: right;\">\n      <th></th>\n      <th>epoch</th>\n      <th>loss</th>\n      <th>num_parameters</th>\n      <th>dim</th>\n      <th>rank</th>\n      <th>accuracy</th>\n      <th>val_loss</th>\n      <th>val_accuracy</th>\n    </tr>\n  </thead>\n  <tbody>\n    <tr>\n      <th>0</th>\n      <td>1</td>\n      <td>1.983530</td>\n      <td>4200</td>\n      <td>10</td>\n      <td>5</td>\n      <td>NaN</td>\n      <td>NaN</td>\n      <td>NaN</td>\n    </tr>\n    <tr>\n      <th>1</th>\n      <td>1</td>\n      <td>NaN</td>\n      <td>4200</td>\n      <td>10</td>\n      <td>5</td>\n      <td>0.198767</td>\n      <td>NaN</td>\n      <td>NaN</td>\n    </tr>\n    <tr>\n      <th>2</th>\n      <td>1</td>\n      <td>NaN</td>\n      <td>4200</td>\n      <td>10</td>\n      <td>5</td>\n      <td>NaN</td>\n      <td>1.756253</td>\n      <td>NaN</td>\n    </tr>\n    <tr>\n      <th>3</th>\n      <td>1</td>\n      <td>NaN</td>\n      <td>4200</td>\n      <td>10</td>\n      <td>5</td>\n      <td>NaN</td>\n      <td>NaN</td>\n      <td>0.2271</td>\n    </tr>\n    <tr>\n      <th>4</th>\n      <td>2</td>\n      <td>1.688697</td>\n      <td>4200</td>\n      <td>10</td>\n      <td>5</td>\n      <td>NaN</td>\n      <td>NaN</td>\n      <td>NaN</td>\n    </tr>\n  </tbody>\n</table>\n</div>"
     },
     "execution_count": 5,
     "metadata": {},
     "output_type": "execute_result"
    }
   ],
   "source": [
    "results = pd.read_csv(\"results_mnist.csv\", index_col=0)\n",
    "results.head()"
   ],
   "metadata": {
    "collapsed": false,
    "pycharm": {
     "name": "#%%\n"
    }
   }
  },
  {
   "cell_type": "code",
   "execution_count": 6,
   "outputs": [
    {
     "data": {
      "text/plain": "<pandas.io.formats.style.Styler at 0x10c00ec10>",
      "text/html": "<style type=\"text/css\">\n#T_2eb17_row0_col0 {\n  background-color: #056faf;\n  color: #f1f1f1;\n}\n#T_2eb17_row0_col1 {\n  background-color: #fff7fb;\n  color: #000000;\n}\n#T_2eb17_row0_col2 {\n  background-color: #a1bbda;\n  color: #000000;\n}\n#T_2eb17_row0_col3, #T_2eb17_row0_col4, #T_2eb17_row0_col5, #T_2eb17_row0_col6, #T_2eb17_row0_col7, #T_2eb17_row1_col4, #T_2eb17_row1_col5, #T_2eb17_row1_col6, #T_2eb17_row1_col7, #T_2eb17_row2_col5, #T_2eb17_row2_col6, #T_2eb17_row2_col7, #T_2eb17_row3_col6, #T_2eb17_row3_col7, #T_2eb17_row4_col7 {\n  background-color: #000000;\n  color: #f1f1f1;\n}\n#T_2eb17_row1_col0 {\n  background-color: #045c90;\n  color: #f1f1f1;\n}\n#T_2eb17_row1_col1 {\n  background-color: #f0eaf4;\n  color: #000000;\n}\n#T_2eb17_row1_col2 {\n  background-color: #97b7d7;\n  color: #000000;\n}\n#T_2eb17_row1_col3 {\n  background-color: #5ea0ca;\n  color: #f1f1f1;\n}\n#T_2eb17_row2_col0 {\n  background-color: #034973;\n  color: #f1f1f1;\n}\n#T_2eb17_row2_col1 {\n  background-color: #2f8bbe;\n  color: #f1f1f1;\n}\n#T_2eb17_row2_col2 {\n  background-color: #0c74b2;\n  color: #f1f1f1;\n}\n#T_2eb17_row2_col3 {\n  background-color: #04639b;\n  color: #f1f1f1;\n}\n#T_2eb17_row2_col4 {\n  background-color: #045b8e;\n  color: #f1f1f1;\n}\n#T_2eb17_row3_col0 {\n  background-color: #03466e;\n  color: #f1f1f1;\n}\n#T_2eb17_row3_col1 {\n  background-color: #1077b4;\n  color: #f1f1f1;\n}\n#T_2eb17_row3_col2 {\n  background-color: #056fae;\n  color: #f1f1f1;\n}\n#T_2eb17_row3_col3 {\n  background-color: #045d92;\n  color: #f1f1f1;\n}\n#T_2eb17_row3_col4, #T_2eb17_row4_col3 {\n  background-color: #045585;\n  color: #f1f1f1;\n}\n#T_2eb17_row3_col5 {\n  background-color: #034369;\n  color: #f1f1f1;\n}\n#T_2eb17_row4_col0, #T_2eb17_row5_col0 {\n  background-color: #023858;\n  color: #f1f1f1;\n}\n#T_2eb17_row4_col1 {\n  background-color: #0567a2;\n  color: #f1f1f1;\n}\n#T_2eb17_row4_col2 {\n  background-color: #046299;\n  color: #f1f1f1;\n}\n#T_2eb17_row4_col4 {\n  background-color: #03456c;\n  color: #f1f1f1;\n}\n#T_2eb17_row4_col5 {\n  background-color: #023d60;\n  color: #f1f1f1;\n}\n#T_2eb17_row4_col6 {\n  background-color: #023f64;\n  color: #f1f1f1;\n}\n#T_2eb17_row5_col1 {\n  background-color: #05659f;\n  color: #f1f1f1;\n}\n#T_2eb17_row5_col2 {\n  background-color: #045280;\n  color: #f1f1f1;\n}\n#T_2eb17_row5_col3 {\n  background-color: #034871;\n  color: #f1f1f1;\n}\n#T_2eb17_row5_col4 {\n  background-color: #03446a;\n  color: #f1f1f1;\n}\n#T_2eb17_row5_col5, #T_2eb17_row5_col6, #T_2eb17_row5_col7 {\n  background-color: #023b5d;\n  color: #f1f1f1;\n}\n</style>\n<table id=\"T_2eb17_\">\n  <thead>\n    <tr>\n      <th class=\"index_name level0\" >rank</th>\n      <th class=\"col_heading level0 col0\" >-1</th>\n      <th class=\"col_heading level0 col1\" >5</th>\n      <th class=\"col_heading level0 col2\" >10</th>\n      <th class=\"col_heading level0 col3\" >20</th>\n      <th class=\"col_heading level0 col4\" >50</th>\n      <th class=\"col_heading level0 col5\" >100</th>\n      <th class=\"col_heading level0 col6\" >200</th>\n      <th class=\"col_heading level0 col7\" >500</th>\n    </tr>\n    <tr>\n      <th class=\"index_name level0\" >dim</th>\n      <th class=\"blank col0\" >&nbsp;</th>\n      <th class=\"blank col1\" >&nbsp;</th>\n      <th class=\"blank col2\" >&nbsp;</th>\n      <th class=\"blank col3\" >&nbsp;</th>\n      <th class=\"blank col4\" >&nbsp;</th>\n      <th class=\"blank col5\" >&nbsp;</th>\n      <th class=\"blank col6\" >&nbsp;</th>\n      <th class=\"blank col7\" >&nbsp;</th>\n    </tr>\n  </thead>\n  <tbody>\n    <tr>\n      <th id=\"T_2eb17_level0_row0\" class=\"row_heading level0 row0\" >10</th>\n      <td id=\"T_2eb17_row0_col0\" class=\"data row0 col0\" >0.88</td>\n      <td id=\"T_2eb17_row0_col1\" class=\"data row0 col1\" >0.58</td>\n      <td id=\"T_2eb17_row0_col2\" class=\"data row0 col2\" >0.74</td>\n      <td id=\"T_2eb17_row0_col3\" class=\"data row0 col3\" >nan</td>\n      <td id=\"T_2eb17_row0_col4\" class=\"data row0 col4\" >nan</td>\n      <td id=\"T_2eb17_row0_col5\" class=\"data row0 col5\" >nan</td>\n      <td id=\"T_2eb17_row0_col6\" class=\"data row0 col6\" >nan</td>\n      <td id=\"T_2eb17_row0_col7\" class=\"data row0 col7\" >nan</td>\n    </tr>\n    <tr>\n      <th id=\"T_2eb17_level0_row1\" class=\"row_heading level0 row1\" >20</th>\n      <td id=\"T_2eb17_row1_col0\" class=\"data row1 col0\" >0.92</td>\n      <td id=\"T_2eb17_row1_col1\" class=\"data row1 col1\" >0.62</td>\n      <td id=\"T_2eb17_row1_col2\" class=\"data row1 col2\" >0.75</td>\n      <td id=\"T_2eb17_row1_col3\" class=\"data row1 col3\" >0.80</td>\n      <td id=\"T_2eb17_row1_col4\" class=\"data row1 col4\" >nan</td>\n      <td id=\"T_2eb17_row1_col5\" class=\"data row1 col5\" >nan</td>\n      <td id=\"T_2eb17_row1_col6\" class=\"data row1 col6\" >nan</td>\n      <td id=\"T_2eb17_row1_col7\" class=\"data row1 col7\" >nan</td>\n    </tr>\n    <tr>\n      <th id=\"T_2eb17_level0_row2\" class=\"row_heading level0 row2\" >50</th>\n      <td id=\"T_2eb17_row2_col0\" class=\"data row2 col0\" >0.95</td>\n      <td id=\"T_2eb17_row2_col1\" class=\"data row2 col1\" >0.84</td>\n      <td id=\"T_2eb17_row2_col2\" class=\"data row2 col2\" >0.87</td>\n      <td id=\"T_2eb17_row2_col3\" class=\"data row2 col3\" >0.91</td>\n      <td id=\"T_2eb17_row2_col4\" class=\"data row2 col4\" >0.93</td>\n      <td id=\"T_2eb17_row2_col5\" class=\"data row2 col5\" >nan</td>\n      <td id=\"T_2eb17_row2_col6\" class=\"data row2 col6\" >nan</td>\n      <td id=\"T_2eb17_row2_col7\" class=\"data row2 col7\" >nan</td>\n    </tr>\n    <tr>\n      <th id=\"T_2eb17_level0_row3\" class=\"row_heading level0 row3\" >100</th>\n      <td id=\"T_2eb17_row3_col0\" class=\"data row3 col0\" >0.96</td>\n      <td id=\"T_2eb17_row3_col1\" class=\"data row3 col1\" >0.87</td>\n      <td id=\"T_2eb17_row3_col2\" class=\"data row3 col2\" >0.88</td>\n      <td id=\"T_2eb17_row3_col3\" class=\"data row3 col3\" >0.92</td>\n      <td id=\"T_2eb17_row3_col4\" class=\"data row3 col4\" >0.94</td>\n      <td id=\"T_2eb17_row3_col5\" class=\"data row3 col5\" >0.96</td>\n      <td id=\"T_2eb17_row3_col6\" class=\"data row3 col6\" >nan</td>\n      <td id=\"T_2eb17_row3_col7\" class=\"data row3 col7\" >nan</td>\n    </tr>\n    <tr>\n      <th id=\"T_2eb17_level0_row4\" class=\"row_heading level0 row4\" >200</th>\n      <td id=\"T_2eb17_row4_col0\" class=\"data row4 col0\" >0.98</td>\n      <td id=\"T_2eb17_row4_col1\" class=\"data row4 col1\" >0.90</td>\n      <td id=\"T_2eb17_row4_col2\" class=\"data row4 col2\" >0.91</td>\n      <td id=\"T_2eb17_row4_col3\" class=\"data row4 col3\" >0.94</td>\n      <td id=\"T_2eb17_row4_col4\" class=\"data row4 col4\" >0.96</td>\n      <td id=\"T_2eb17_row4_col5\" class=\"data row4 col5\" >0.97</td>\n      <td id=\"T_2eb17_row4_col6\" class=\"data row4 col6\" >0.97</td>\n      <td id=\"T_2eb17_row4_col7\" class=\"data row4 col7\" >nan</td>\n    </tr>\n    <tr>\n      <th id=\"T_2eb17_level0_row5\" class=\"row_heading level0 row5\" >500</th>\n      <td id=\"T_2eb17_row5_col0\" class=\"data row5 col0\" >0.98</td>\n      <td id=\"T_2eb17_row5_col1\" class=\"data row5 col1\" >0.90</td>\n      <td id=\"T_2eb17_row5_col2\" class=\"data row5 col2\" >0.94</td>\n      <td id=\"T_2eb17_row5_col3\" class=\"data row5 col3\" >0.96</td>\n      <td id=\"T_2eb17_row5_col4\" class=\"data row5 col4\" >0.96</td>\n      <td id=\"T_2eb17_row5_col5\" class=\"data row5 col5\" >0.97</td>\n      <td id=\"T_2eb17_row5_col6\" class=\"data row5 col6\" >0.97</td>\n      <td id=\"T_2eb17_row5_col7\" class=\"data row5 col7\" >0.97</td>\n    </tr>\n  </tbody>\n</table>\n"
     },
     "execution_count": 6,
     "metadata": {},
     "output_type": "execute_result"
    }
   ],
   "source": [
    "avg_accs = pd.pivot_table(\n",
    "    results,\n",
    "    aggfunc=np.max,\n",
    "    values=\"val_accuracy\",\n",
    "    index=\"dim\",\n",
    "    columns=\"rank\"\n",
    ")\n",
    "avg_accs.style.format(precision=2).background_gradient(axis=None)"
   ],
   "metadata": {
    "collapsed": false,
    "pycharm": {
     "name": "#%%\n"
    }
   }
  },
  {
   "cell_type": "code",
   "execution_count": 7,
   "outputs": [
    {
     "data": {
      "text/plain": "<pandas.io.formats.style.Styler at 0x10c025dc0>",
      "text/html": "<style type=\"text/css\">\n#T_a337a_row0_col0, #T_a337a_row0_col1, #T_a337a_row0_col2, #T_a337a_row1_col1, #T_a337a_row2_col1, #T_a337a_row3_col1 {\n  background-color: #fff7fb;\n  color: #000000;\n}\n#T_a337a_row0_col3, #T_a337a_row0_col4, #T_a337a_row0_col5, #T_a337a_row0_col6, #T_a337a_row0_col7, #T_a337a_row1_col4, #T_a337a_row1_col5, #T_a337a_row1_col6, #T_a337a_row1_col7, #T_a337a_row2_col5, #T_a337a_row2_col6, #T_a337a_row2_col7, #T_a337a_row3_col6, #T_a337a_row3_col7, #T_a337a_row4_col7 {\n  background-color: #000000;\n  color: #f1f1f1;\n}\n#T_a337a_row1_col0, #T_a337a_row1_col3, #T_a337a_row4_col2, #T_a337a_row5_col1 {\n  background-color: #fef6fa;\n  color: #000000;\n}\n#T_a337a_row1_col2, #T_a337a_row2_col2, #T_a337a_row3_col2, #T_a337a_row4_col1 {\n  background-color: #fef6fb;\n  color: #000000;\n}\n#T_a337a_row2_col0 {\n  background-color: #faf3f9;\n  color: #000000;\n}\n#T_a337a_row2_col3, #T_a337a_row3_col3 {\n  background-color: #fdf5fa;\n  color: #000000;\n}\n#T_a337a_row2_col4 {\n  background-color: #faf2f8;\n  color: #000000;\n}\n#T_a337a_row3_col0 {\n  background-color: #f4edf6;\n  color: #000000;\n}\n#T_a337a_row3_col4 {\n  background-color: #f8f1f8;\n  color: #000000;\n}\n#T_a337a_row3_col5 {\n  background-color: #f1ebf5;\n  color: #000000;\n}\n#T_a337a_row4_col0 {\n  background-color: #e2dfee;\n  color: #000000;\n}\n#T_a337a_row4_col3, #T_a337a_row5_col2 {\n  background-color: #fcf4fa;\n  color: #000000;\n}\n#T_a337a_row4_col4 {\n  background-color: #f6eff7;\n  color: #000000;\n}\n#T_a337a_row4_col5 {\n  background-color: #ede8f3;\n  color: #000000;\n}\n#T_a337a_row4_col6 {\n  background-color: #d2d3e7;\n  color: #000000;\n}\n#T_a337a_row5_col0 {\n  background-color: #549cc7;\n  color: #f1f1f1;\n}\n#T_a337a_row5_col3 {\n  background-color: #f9f2f8;\n  color: #000000;\n}\n#T_a337a_row5_col4 {\n  background-color: #f0eaf4;\n  color: #000000;\n}\n#T_a337a_row5_col5 {\n  background-color: #dbdaeb;\n  color: #000000;\n}\n#T_a337a_row5_col6 {\n  background-color: #9cb9d9;\n  color: #000000;\n}\n#T_a337a_row5_col7 {\n  background-color: #023858;\n  color: #f1f1f1;\n}\n</style>\n<table id=\"T_a337a_\">\n  <thead>\n    <tr>\n      <th class=\"index_name level0\" >rank</th>\n      <th class=\"col_heading level0 col0\" >-1</th>\n      <th class=\"col_heading level0 col1\" >5</th>\n      <th class=\"col_heading level0 col2\" >10</th>\n      <th class=\"col_heading level0 col3\" >20</th>\n      <th class=\"col_heading level0 col4\" >50</th>\n      <th class=\"col_heading level0 col5\" >100</th>\n      <th class=\"col_heading level0 col6\" >200</th>\n      <th class=\"col_heading level0 col7\" >500</th>\n    </tr>\n    <tr>\n      <th class=\"index_name level0\" >dim</th>\n      <th class=\"blank col0\" >&nbsp;</th>\n      <th class=\"blank col1\" >&nbsp;</th>\n      <th class=\"blank col2\" >&nbsp;</th>\n      <th class=\"blank col3\" >&nbsp;</th>\n      <th class=\"blank col4\" >&nbsp;</th>\n      <th class=\"blank col5\" >&nbsp;</th>\n      <th class=\"blank col6\" >&nbsp;</th>\n      <th class=\"blank col7\" >&nbsp;</th>\n    </tr>\n  </thead>\n  <tbody>\n    <tr>\n      <th id=\"T_a337a_level0_row0\" class=\"row_heading level0 row0\" >10</th>\n      <td id=\"T_a337a_row0_col0\" class=\"data row0 col0\" >8</td>\n      <td id=\"T_a337a_row0_col1\" class=\"data row0 col1\" >4</td>\n      <td id=\"T_a337a_row0_col2\" class=\"data row0 col2\" >8</td>\n      <td id=\"T_a337a_row0_col3\" class=\"data row0 col3\" >nan</td>\n      <td id=\"T_a337a_row0_col4\" class=\"data row0 col4\" >nan</td>\n      <td id=\"T_a337a_row0_col5\" class=\"data row0 col5\" >nan</td>\n      <td id=\"T_a337a_row0_col6\" class=\"data row0 col6\" >nan</td>\n      <td id=\"T_a337a_row0_col7\" class=\"data row0 col7\" >nan</td>\n    </tr>\n    <tr>\n      <th id=\"T_a337a_level0_row1\" class=\"row_heading level0 row1\" >20</th>\n      <td id=\"T_a337a_row1_col0\" class=\"data row1 col0\" >16</td>\n      <td id=\"T_a337a_row1_col1\" class=\"data row1 col1\" >4</td>\n      <td id=\"T_a337a_row1_col2\" class=\"data row1 col2\" >9</td>\n      <td id=\"T_a337a_row1_col3\" class=\"data row1 col3\" >17</td>\n      <td id=\"T_a337a_row1_col4\" class=\"data row1 col4\" >nan</td>\n      <td id=\"T_a337a_row1_col5\" class=\"data row1 col5\" >nan</td>\n      <td id=\"T_a337a_row1_col6\" class=\"data row1 col6\" >nan</td>\n      <td id=\"T_a337a_row1_col7\" class=\"data row1 col7\" >nan</td>\n    </tr>\n    <tr>\n      <th id=\"T_a337a_level0_row2\" class=\"row_heading level0 row2\" >50</th>\n      <td id=\"T_a337a_row2_col0\" class=\"data row2 col0\" >42</td>\n      <td id=\"T_a337a_row2_col1\" class=\"data row2 col1\" >5</td>\n      <td id=\"T_a337a_row2_col2\" class=\"data row2 col2\" >10</td>\n      <td id=\"T_a337a_row2_col3\" class=\"data row2 col3\" >19</td>\n      <td id=\"T_a337a_row2_col4\" class=\"data row2 col4\" >47</td>\n      <td id=\"T_a337a_row2_col5\" class=\"data row2 col5\" >nan</td>\n      <td id=\"T_a337a_row2_col6\" class=\"data row2 col6\" >nan</td>\n      <td id=\"T_a337a_row2_col7\" class=\"data row2 col7\" >nan</td>\n    </tr>\n    <tr>\n      <th id=\"T_a337a_level0_row3\" class=\"row_heading level0 row3\" >100</th>\n      <td id=\"T_a337a_row3_col0\" class=\"data row3 col0\" >90</td>\n      <td id=\"T_a337a_row3_col1\" class=\"data row3 col1\" >7</td>\n      <td id=\"T_a337a_row3_col2\" class=\"data row3 col2\" >12</td>\n      <td id=\"T_a337a_row3_col3\" class=\"data row3 col3\" >23</td>\n      <td id=\"T_a337a_row3_col4\" class=\"data row3 col4\" >55</td>\n      <td id=\"T_a337a_row3_col5\" class=\"data row3 col5\" >110</td>\n      <td id=\"T_a337a_row3_col6\" class=\"data row3 col6\" >nan</td>\n      <td id=\"T_a337a_row3_col7\" class=\"data row3 col7\" >nan</td>\n    </tr>\n    <tr>\n      <th id=\"T_a337a_level0_row4\" class=\"row_heading level0 row4\" >200</th>\n      <td id=\"T_a337a_row4_col0\" class=\"data row4 col0\" >199</td>\n      <td id=\"T_a337a_row4_col1\" class=\"data row4 col1\" >9</td>\n      <td id=\"T_a337a_row4_col2\" class=\"data row4 col2\" >16</td>\n      <td id=\"T_a337a_row4_col3\" class=\"data row4 col3\" >30</td>\n      <td id=\"T_a337a_row4_col4\" class=\"data row4 col4\" >72</td>\n      <td id=\"T_a337a_row4_col5\" class=\"data row4 col5\" >141</td>\n      <td id=\"T_a337a_row4_col6\" class=\"data row4 col6\" >279</td>\n      <td id=\"T_a337a_row4_col7\" class=\"data row4 col7\" >nan</td>\n    </tr>\n    <tr>\n      <th id=\"T_a337a_level0_row5\" class=\"row_heading level0 row5\" >500</th>\n      <td id=\"T_a337a_row5_col0\" class=\"data row5 col0\" >648</td>\n      <td id=\"T_a337a_row5_col1\" class=\"data row5 col1\" >17</td>\n      <td id=\"T_a337a_row5_col2\" class=\"data row5 col2\" >29</td>\n      <td id=\"T_a337a_row5_col3\" class=\"data row5 col3\" >52</td>\n      <td id=\"T_a337a_row5_col4\" class=\"data row5 col4\" >120</td>\n      <td id=\"T_a337a_row5_col5\" class=\"data row5 col5\" >234</td>\n      <td id=\"T_a337a_row5_col6\" class=\"data row5 col6\" >463</td>\n      <td id=\"T_a337a_row5_col7\" class=\"data row5 col7\" >1148</td>\n    </tr>\n  </tbody>\n</table>\n"
     },
     "execution_count": 7,
     "metadata": {},
     "output_type": "execute_result"
    }
   ],
   "source": [
    "num_param = pd.pivot_table(\n",
    "    results,\n",
    "    values=\"num_parameters\",\n",
    "    index=\"dim\",\n",
    "    columns=\"rank\"\n",
    ")\n",
    "num_param /= 1000\n",
    "num_param.style.format(precision=0).background_gradient(axis=None)"
   ],
   "metadata": {
    "collapsed": false,
    "pycharm": {
     "name": "#%%\n"
    }
   }
  },
  {
   "cell_type": "code",
   "execution_count": 8,
   "outputs": [
    {
     "data": {
      "text/plain": "<pandas.io.formats.style.Styler at 0x10c52a790>",
      "text/html": "<style type=\"text/css\">\n#T_11d56_row0_col0 {\n  background-color: #1e80b8;\n  color: #f1f1f1;\n}\n#T_11d56_row0_col1 {\n  background-color: #045a8d;\n  color: #f1f1f1;\n}\n#T_11d56_row0_col2 {\n  background-color: #569dc8;\n  color: #f1f1f1;\n}\n#T_11d56_row0_col3, #T_11d56_row0_col4, #T_11d56_row0_col5, #T_11d56_row0_col6, #T_11d56_row0_col7, #T_11d56_row1_col4, #T_11d56_row1_col5, #T_11d56_row1_col6, #T_11d56_row1_col7, #T_11d56_row2_col5, #T_11d56_row2_col6, #T_11d56_row2_col7, #T_11d56_row3_col6, #T_11d56_row3_col7, #T_11d56_row4_col7 {\n  background-color: #000000;\n  color: #f1f1f1;\n}\n#T_11d56_row1_col0 {\n  background-color: #adc1dd;\n  color: #000000;\n}\n#T_11d56_row1_col1 {\n  background-color: #04598c;\n  color: #f1f1f1;\n}\n#T_11d56_row1_col2 {\n  background-color: #60a1ca;\n  color: #f1f1f1;\n}\n#T_11d56_row1_col3 {\n  background-color: #c2cbe2;\n  color: #000000;\n}\n#T_11d56_row2_col0 {\n  background-color: #e9e5f1;\n  color: #000000;\n}\n#T_11d56_row2_col1 {\n  background-color: #023858;\n  color: #f1f1f1;\n}\n#T_11d56_row2_col2 {\n  background-color: #5c9fc9;\n  color: #f1f1f1;\n}\n#T_11d56_row2_col3 {\n  background-color: #c1cae2;\n  color: #000000;\n}\n#T_11d56_row2_col4 {\n  background-color: #ede8f3;\n  color: #000000;\n}\n#T_11d56_row3_col0 {\n  background-color: #f6eff7;\n  color: #000000;\n}\n#T_11d56_row3_col1 {\n  background-color: #04639b;\n  color: #f1f1f1;\n}\n#T_11d56_row3_col2 {\n  background-color: #84b0d3;\n  color: #f1f1f1;\n}\n#T_11d56_row3_col3 {\n  background-color: #d0d1e6;\n  color: #000000;\n}\n#T_11d56_row3_col4 {\n  background-color: #f0eaf4;\n  color: #000000;\n}\n#T_11d56_row3_col5, #T_11d56_row5_col4 {\n  background-color: #f8f1f8;\n  color: #000000;\n}\n#T_11d56_row4_col0 {\n  background-color: #fbf4f9;\n  color: #000000;\n}\n#T_11d56_row4_col1 {\n  background-color: #4094c3;\n  color: #f1f1f1;\n}\n#T_11d56_row4_col2 {\n  background-color: #afc1dd;\n  color: #000000;\n}\n#T_11d56_row4_col3 {\n  background-color: #dddbec;\n  color: #000000;\n}\n#T_11d56_row4_col4 {\n  background-color: #f3edf5;\n  color: #000000;\n}\n#T_11d56_row4_col5 {\n  background-color: #faf2f8;\n  color: #000000;\n}\n#T_11d56_row4_col6 {\n  background-color: #fdf5fa;\n  color: #000000;\n}\n#T_11d56_row5_col0 {\n  background-color: #fef6fb;\n  color: #000000;\n}\n#T_11d56_row5_col1 {\n  background-color: #b8c6e0;\n  color: #000000;\n}\n#T_11d56_row5_col2 {\n  background-color: #dbdaeb;\n  color: #000000;\n}\n#T_11d56_row5_col3 {\n  background-color: #eee9f3;\n  color: #000000;\n}\n#T_11d56_row5_col5 {\n  background-color: #fcf4fa;\n  color: #000000;\n}\n#T_11d56_row5_col6 {\n  background-color: #fef6fa;\n  color: #000000;\n}\n#T_11d56_row5_col7 {\n  background-color: #fff7fb;\n  color: #000000;\n}\n</style>\n<table id=\"T_11d56_\">\n  <thead>\n    <tr>\n      <th class=\"index_name level0\" >rank</th>\n      <th class=\"col_heading level0 col0\" >-1</th>\n      <th class=\"col_heading level0 col1\" >5</th>\n      <th class=\"col_heading level0 col2\" >10</th>\n      <th class=\"col_heading level0 col3\" >20</th>\n      <th class=\"col_heading level0 col4\" >50</th>\n      <th class=\"col_heading level0 col5\" >100</th>\n      <th class=\"col_heading level0 col6\" >200</th>\n      <th class=\"col_heading level0 col7\" >500</th>\n    </tr>\n    <tr>\n      <th class=\"index_name level0\" >dim</th>\n      <th class=\"blank col0\" >&nbsp;</th>\n      <th class=\"blank col1\" >&nbsp;</th>\n      <th class=\"blank col2\" >&nbsp;</th>\n      <th class=\"blank col3\" >&nbsp;</th>\n      <th class=\"blank col4\" >&nbsp;</th>\n      <th class=\"blank col5\" >&nbsp;</th>\n      <th class=\"blank col6\" >&nbsp;</th>\n      <th class=\"blank col7\" >&nbsp;</th>\n    </tr>\n  </thead>\n  <tbody>\n    <tr>\n      <th id=\"T_11d56_level0_row0\" class=\"row_heading level0 row0\" >10</th>\n      <td id=\"T_11d56_row0_col0\" class=\"data row0 col0\" >0.1091</td>\n      <td id=\"T_11d56_row0_col1\" class=\"data row0 col1\" >0.1386</td>\n      <td id=\"T_11d56_row0_col2\" class=\"data row0 col2\" >0.0891</td>\n      <td id=\"T_11d56_row0_col3\" class=\"data row0 col3\" >nan</td>\n      <td id=\"T_11d56_row0_col4\" class=\"data row0 col4\" >nan</td>\n      <td id=\"T_11d56_row0_col5\" class=\"data row0 col5\" >nan</td>\n      <td id=\"T_11d56_row0_col6\" class=\"data row0 col6\" >nan</td>\n      <td id=\"T_11d56_row0_col7\" class=\"data row0 col7\" >nan</td>\n    </tr>\n    <tr>\n      <th id=\"T_11d56_level0_row1\" class=\"row_heading level0 row1\" >20</th>\n      <td id=\"T_11d56_row1_col0\" class=\"data row1 col0\" >0.0565</td>\n      <td id=\"T_11d56_row1_col1\" class=\"data row1 col1\" >0.1390</td>\n      <td id=\"T_11d56_row1_col2\" class=\"data row1 col2\" >0.0859</td>\n      <td id=\"T_11d56_row1_col3\" class=\"data row1 col3\" >0.0466</td>\n      <td id=\"T_11d56_row1_col4\" class=\"data row1 col4\" >nan</td>\n      <td id=\"T_11d56_row1_col5\" class=\"data row1 col5\" >nan</td>\n      <td id=\"T_11d56_row1_col6\" class=\"data row1 col6\" >nan</td>\n      <td id=\"T_11d56_row1_col7\" class=\"data row1 col7\" >nan</td>\n    </tr>\n    <tr>\n      <th id=\"T_11d56_level0_row2\" class=\"row_heading level0 row2\" >50</th>\n      <td id=\"T_11d56_row2_col0\" class=\"data row2 col0\" >0.0225</td>\n      <td id=\"T_11d56_row2_col1\" class=\"data row2 col1\" >0.1586</td>\n      <td id=\"T_11d56_row2_col2\" class=\"data row2 col2\" >0.0877</td>\n      <td id=\"T_11d56_row2_col3\" class=\"data row2 col3\" >0.0471</td>\n      <td id=\"T_11d56_row2_col4\" class=\"data row2 col4\" >0.0196</td>\n      <td id=\"T_11d56_row2_col5\" class=\"data row2 col5\" >nan</td>\n      <td id=\"T_11d56_row2_col6\" class=\"data row2 col6\" >nan</td>\n      <td id=\"T_11d56_row2_col7\" class=\"data row2 col7\" >nan</td>\n    </tr>\n    <tr>\n      <th id=\"T_11d56_level0_row3\" class=\"row_heading level0 row3\" >100</th>\n      <td id=\"T_11d56_row3_col0\" class=\"data row3 col0\" >0.0107</td>\n      <td id=\"T_11d56_row3_col1\" class=\"data row3 col1\" >0.1308</td>\n      <td id=\"T_11d56_row3_col2\" class=\"data row3 col2\" >0.0732</td>\n      <td id=\"T_11d56_row3_col3\" class=\"data row3 col3\" >0.0403</td>\n      <td id=\"T_11d56_row3_col4\" class=\"data row3 col4\" >0.0169</td>\n      <td id=\"T_11d56_row3_col5\" class=\"data row3 col5\" >0.0088</td>\n      <td id=\"T_11d56_row3_col6\" class=\"data row3 col6\" >nan</td>\n      <td id=\"T_11d56_row3_col7\" class=\"data row3 col7\" >nan</td>\n    </tr>\n    <tr>\n      <th id=\"T_11d56_level0_row4\" class=\"row_heading level0 row4\" >200</th>\n      <td id=\"T_11d56_row4_col0\" class=\"data row4 col0\" >0.0049</td>\n      <td id=\"T_11d56_row4_col1\" class=\"data row4 col1\" >0.0963</td>\n      <td id=\"T_11d56_row4_col2\" class=\"data row4 col2\" >0.0561</td>\n      <td id=\"T_11d56_row4_col3\" class=\"data row4 col3\" >0.0311</td>\n      <td id=\"T_11d56_row4_col4\" class=\"data row4 col4\" >0.0134</td>\n      <td id=\"T_11d56_row4_col5\" class=\"data row4 col5\" >0.0069</td>\n      <td id=\"T_11d56_row4_col6\" class=\"data row4 col6\" >0.0035</td>\n      <td id=\"T_11d56_row4_col7\" class=\"data row4 col7\" >nan</td>\n    </tr>\n    <tr>\n      <th id=\"T_11d56_level0_row5\" class=\"row_heading level0 row5\" >500</th>\n      <td id=\"T_11d56_row5_col0\" class=\"data row5 col0\" >0.0015</td>\n      <td id=\"T_11d56_row5_col1\" class=\"data row5 col1\" >0.0518</td>\n      <td id=\"T_11d56_row5_col2\" class=\"data row5 col2\" >0.0326</td>\n      <td id=\"T_11d56_row5_col3\" class=\"data row5 col3\" >0.0185</td>\n      <td id=\"T_11d56_row5_col4\" class=\"data row5 col4\" >0.0080</td>\n      <td id=\"T_11d56_row5_col5\" class=\"data row5 col5\" >0.0042</td>\n      <td id=\"T_11d56_row5_col6\" class=\"data row5 col6\" >0.0021</td>\n      <td id=\"T_11d56_row5_col7\" class=\"data row5 col7\" >0.0008</td>\n    </tr>\n  </tbody>\n</table>\n"
     },
     "execution_count": 8,
     "metadata": {},
     "output_type": "execute_result"
    }
   ],
   "source": [
    "acc_per_param = avg_accs / num_param\n",
    "acc_per_param.style.format(precision=4).background_gradient(axis=None)"
   ],
   "metadata": {
    "collapsed": false,
    "pycharm": {
     "name": "#%%\n"
    }
   }
  },
  {
   "cell_type": "code",
   "execution_count": 8,
   "outputs": [],
   "source": [],
   "metadata": {
    "collapsed": false,
    "pycharm": {
     "name": "#%%\n"
    }
   }
  }
 ],
 "metadata": {
  "kernelspec": {
   "display_name": "Python 3",
   "language": "python",
   "name": "python3"
  },
  "language_info": {
   "codemirror_mode": {
    "name": "ipython",
    "version": 2
   },
   "file_extension": ".py",
   "mimetype": "text/x-python",
   "name": "python",
   "nbconvert_exporter": "python",
   "pygments_lexer": "ipython2",
   "version": "2.7.6"
  }
 },
 "nbformat": 4,
 "nbformat_minor": 0
}